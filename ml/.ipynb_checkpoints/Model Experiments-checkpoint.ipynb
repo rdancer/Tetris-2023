{
 "cells": [
  {
   "cell_type": "markdown",
   "id": "d3b324e2",
   "metadata": {},
   "source": [
    "# Model customisation & experiments\n",
    "\n",
    "This is an alternative to running `./main.py`"
   ]
  },
  {
   "cell_type": "code",
   "execution_count": null,
   "id": "baecc16f",
   "metadata": {},
   "outputs": [],
   "source": [
    "# if the server isn't running already, start it\n",
    "#!make -C ../ server"
   ]
  },
  {
   "cell_type": "code",
   "execution_count": 1,
   "id": "60d9b685",
   "metadata": {},
   "outputs": [
    {
     "name": "stdout",
     "output_type": "stream",
     "text": [
      "self.playwright: <playwright._impl._playwright.Playwright object at 0x7fef229149a0>\n"
     ]
    },
    {
     "ename": "AttributeError",
     "evalue": "'control' object has no attribute 'set_tick_async'",
     "output_type": "error",
     "traceback": [
      "\u001b[0;31m---------------------------------------------------------------------------\u001b[0m",
      "\u001b[0;31mAttributeError\u001b[0m                            Traceback (most recent call last)",
      "Cell \u001b[0;32mIn[1], line 25\u001b[0m\n\u001b[1;32m     22\u001b[0m         \u001b[38;5;28;01mawait\u001b[39;00m control\u001b[38;5;241m.\u001b[39mset_tick_async(TICK)\n\u001b[1;32m     23\u001b[0m         model\u001b[38;5;241m.\u001b[39mtrain_model(num_iterations, off_policy)\n\u001b[0;32m---> 25\u001b[0m \u001b[38;5;28;01mawait\u001b[39;00m main()\n",
      "Cell \u001b[0;32mIn[1], line 22\u001b[0m, in \u001b[0;36mmain\u001b[0;34m()\u001b[0m\n\u001b[1;32m     20\u001b[0m \u001b[38;5;28;01masync\u001b[39;00m \u001b[38;5;28;01mwith\u001b[39;00m ctrl(TETRIS_SERVER_URL) \u001b[38;5;28;01mas\u001b[39;00m control:\n\u001b[1;32m     21\u001b[0m     model \u001b[38;5;241m=\u001b[39m Model(control)\n\u001b[0;32m---> 22\u001b[0m     \u001b[38;5;28;01mawait\u001b[39;00m control\u001b[38;5;241m.\u001b[39mset_tick_async(TICK)\n\u001b[1;32m     23\u001b[0m     model\u001b[38;5;241m.\u001b[39mtrain_model(num_iterations, off_policy)\n",
      "\u001b[0;31mAttributeError\u001b[0m: 'control' object has no attribute 'set_tick_async'"
     ]
    }
   ],
   "source": [
    "import os\n",
    "\n",
    "TICK = 100 # speed of the game [milliseconds]\n",
    "TETRIS_SERVER_URL = \"http://localhost:8888\"\n",
    "\n",
    "# Silence the cretinous nagging of TensorFlow:\n",
    "# \"This TensorFlow binary is optimized with oneAPI Deep Neural Network Library (oneDNN) to use the following CPU instructions in performance-critical operations:  AVX2 FMA\n",
    "# \"To enable them in other operations, rebuild TensorFlow with the appropriate compiler flags.\"\n",
    "os.environ['TF_CPP_MIN_LOG_LEVEL'] = '1' # Note: needs to be set before importing tensorflow\n",
    "\n",
    "# in Jupyter notebooks, we need the async version of playwright\n",
    "from tetris_control_async import control as ctrl\n",
    "from model import Model\n",
    "\n",
    "\n",
    "num_iterations = 4 # number of games to play per training session\n",
    "off_policy = True # set to false to train on-policy\n",
    "\n",
    "async def main():\n",
    "    async with ctrl(TETRIS_SERVER_URL) as control:\n",
    "        model = Model(control)\n",
    "        control.set_tick(TICK)\n",
    "        model.train_model(num_iterations, off_policy)\n",
    "\n",
    "await main()"
   ]
  },
  {
   "cell_type": "code",
   "execution_count": null,
   "id": "e270a2c6",
   "metadata": {},
   "outputs": [],
   "source": []
  }
 ],
 "metadata": {
  "kernelspec": {
   "display_name": "Python 3 (ipykernel)",
   "language": "python",
   "name": "python3"
  },
  "language_info": {
   "codemirror_mode": {
    "name": "ipython",
    "version": 3
   },
   "file_extension": ".py",
   "mimetype": "text/x-python",
   "name": "python",
   "nbconvert_exporter": "python",
   "pygments_lexer": "ipython3",
   "version": "3.9.12"
  }
 },
 "nbformat": 4,
 "nbformat_minor": 5
}
